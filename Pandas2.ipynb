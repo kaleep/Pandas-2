{
 "cells": [
  {
   "cell_type": "markdown",
   "id": "bcd39622-c878-42cf-b446-6a6c141ead9e",
   "metadata": {},
   "source": [
    "Q1. List any five functions of the pandas library with execution."
   ]
  },
  {
   "cell_type": "code",
   "execution_count": 4,
   "id": "73b29fe8-089e-4476-a477-5c501c8414cb",
   "metadata": {},
   "outputs": [
    {
     "name": "stdout",
     "output_type": "stream",
     "text": [
      "   CustomerID  Gender  Age  Annual Income (k$)  Spending Score (1-100)\n",
      "0           1    Male   19                  15                      39\n",
      "1           2    Male   21                  15                      81\n",
      "2           3  Female   20                  16                       6\n",
      "3           4  Female   23                  16                      77\n",
      "4           5  Female   31                  17                      40\n"
     ]
    }
   ],
   "source": [
    "#read_csv(): This function is used to read data from a CSV file and create a DataFrame.\n",
    "import pandas as pd\n",
    "\n",
    "# Reading a CSV file and creating a DataFrame\n",
    "data = pd.read_csv('Mall_Customers.csv')\n",
    "print(data.head())"
   ]
  },
  {
   "cell_type": "code",
   "execution_count": 5,
   "id": "7b872d12-8260-47aa-9b25-6ec9a83775d7",
   "metadata": {},
   "outputs": [
    {
     "name": "stdout",
     "output_type": "stream",
     "text": [
      "    Name  Age      City\n",
      "0   John   25  New York\n",
      "1  Alice   30    London\n",
      "2    Bob   22     Paris\n"
     ]
    }
   ],
   "source": [
    "#head(): This function is used to display the first few rows of a DataFrame. By default, it displays the first five rows.\n",
    "import pandas as pd\n",
    "\n",
    "# Creating a DataFrame\n",
    "data = {'Name': ['John', 'Alice', 'Bob', 'Emily', 'Michael'],\n",
    "        'Age': [25, 30, 22, 28, 35],\n",
    "        'City': ['New York', 'London', 'Paris', 'Sydney', 'Tokyo']}\n",
    "df = pd.DataFrame(data)\n",
    "\n",
    "# Displaying the first three rows of the DataFrame\n",
    "print(df.head(3))"
   ]
  },
  {
   "cell_type": "code",
   "execution_count": 6,
   "id": "ede7b6f6-86b3-43d2-96c1-9a221e2b5320",
   "metadata": {},
   "outputs": [
    {
     "name": "stdout",
     "output_type": "stream",
     "text": [
      "<class 'pandas.core.frame.DataFrame'>\n",
      "RangeIndex: 5 entries, 0 to 4\n",
      "Data columns (total 3 columns):\n",
      " #   Column  Non-Null Count  Dtype \n",
      "---  ------  --------------  ----- \n",
      " 0   Name    5 non-null      object\n",
      " 1   Age     5 non-null      int64 \n",
      " 2   City    5 non-null      object\n",
      "dtypes: int64(1), object(2)\n",
      "memory usage: 248.0+ bytes\n"
     ]
    }
   ],
   "source": [
    "#info(): This function provides a summary of the DataFrame, including the column names, data types, and the number of non-null values.\n",
    "import pandas as pd\n",
    "\n",
    "# Creating a DataFrame\n",
    "data = {'Name': ['John', 'Alice', 'Bob', 'Emily', 'Michael'],\n",
    "        'Age': [25, 30, 22, 28, 35],\n",
    "        'City': ['New York', 'London', 'Paris', 'Sydney', 'Tokyo']}\n",
    "df = pd.DataFrame(data)\n",
    "\n",
    "# Providing summary information of the DataFrame\n",
    "df.info()"
   ]
  },
  {
   "cell_type": "code",
   "execution_count": 7,
   "id": "94130249-b712-4c05-b9b9-ddbe28f68335",
   "metadata": {},
   "outputs": [
    {
     "name": "stdout",
     "output_type": "stream",
     "text": [
      "             Age\n",
      "count   5.000000\n",
      "mean   28.000000\n",
      "std     4.949747\n",
      "min    22.000000\n",
      "25%    25.000000\n",
      "50%    28.000000\n",
      "75%    30.000000\n",
      "max    35.000000\n"
     ]
    }
   ],
   "source": [
    "#describe(): This function generates descriptive statistics of the DataFrame, including count, mean, standard deviation, minimum, maximum, and quartiles for numerical columns.\n",
    "# Creating a DataFrame\n",
    "data = {'Name': ['John', 'Alice', 'Bob', 'Emily', 'Michael'],\n",
    "        'Age': [25, 30, 22, 28, 35],\n",
    "        'City': ['New York', 'London', 'Paris', 'Sydney', 'Tokyo']}\n",
    "df = pd.DataFrame(data)\n",
    "\n",
    "# Generating descriptive statistics of the DataFrame\n",
    "print(df.describe())"
   ]
  },
  {
   "cell_type": "code",
   "execution_count": 8,
   "id": "b6222754-871d-47f5-98fe-dc8be82d4da0",
   "metadata": {},
   "outputs": [
    {
     "name": "stdout",
     "output_type": "stream",
     "text": [
      "City\n",
      "London      30.0\n",
      "New York    25.0\n",
      "Paris       22.0\n",
      "Sydney      28.0\n",
      "Tokyo       35.0\n",
      "Name: Age, dtype: float64\n"
     ]
    }
   ],
   "source": [
    "#groupby(): This function is used to group rows of a DataFrame based on one or more columns and perform aggregate operations on the grouped data.\n",
    "# Creating a DataFrame\n",
    "data = {'Name': ['John', 'Alice', 'Bob', 'Emily', 'Michael'],\n",
    "        'Age': [25, 30, 22, 28, 35],\n",
    "        'City': ['New York', 'London', 'Paris', 'Sydney', 'Tokyo']}\n",
    "df = pd.DataFrame(data)\n",
    "\n",
    "# Grouping the DataFrame by the 'City' column and calculating the average age\n",
    "grouped = df.groupby('City')\n",
    "average_age = grouped['Age'].mean()\n",
    "print(average_age)"
   ]
  },
  {
   "cell_type": "markdown",
   "id": "c0de4dfb-22b2-4a60-998f-9a57a42372a1",
   "metadata": {},
   "source": [
    "2. Given a Pandas DataFrame df with columns 'A', 'B', and 'C', write a Python function to re-index the\n",
    "DataFrame with a new index that starts from 1 and increments by 2 for each row."
   ]
  },
  {
   "cell_type": "code",
   "execution_count": 11,
   "id": "90c21688-bb39-407d-ac03-fa60f31ad23b",
   "metadata": {},
   "outputs": [
    {
     "name": "stdout",
     "output_type": "stream",
     "text": [
      "Original DataFrame:\n",
      "    A   B   C\n",
      "0  10  40  70\n",
      "1  20  50  80\n",
      "2  30  60  90\n",
      "\n",
      "Re-indexed DataFrame:\n",
      "    A   B   C\n",
      "1  10  40  70\n",
      "3  20  50  80\n",
      "5  30  60  90\n"
     ]
    }
   ],
   "source": [
    "\n",
    "# Example usage\n",
    "df = pd.DataFrame({'A': [10, 20, 30], 'B': [40, 50, 60], 'C': [70, 80, 90]})\n",
    "print(\"Original DataFrame:\")\n",
    "print(df)\n",
    "\n",
    "reindexed_df = reindex_dataframe(df)\n",
    "print(\"\\nRe-indexed DataFrame:\")\n",
    "print(reindexed_df)"
   ]
  },
  {
   "cell_type": "markdown",
   "id": "d7516dd7-8800-4269-84eb-68040d1f43d7",
   "metadata": {},
   "source": [
    "3. You have a Pandas DataFrame df with a column named 'Values'. Write a Python function that\n",
    "iterates over the DataFrame and calculates the sum of the first three values in the 'Values' column. The\n",
    "function should print the sum to the console.\n",
    "For example, if the 'Values' column of df contains the values [10, 20, 30, 40, 50], your function should\n",
    "calculate and print the sum of the first three values, which is 60."
   ]
  },
  {
   "cell_type": "code",
   "execution_count": 14,
   "id": "f77e1deb-eeba-4019-98e4-e379ae8a045f",
   "metadata": {},
   "outputs": [
    {
     "name": "stdout",
     "output_type": "stream",
     "text": [
      "DataFrame:\n",
      "   Values\n",
      "0      10\n",
      "1      20\n",
      "2      30\n",
      "3      40\n",
      "4      50\n",
      "Sum of the first three values: 60\n"
     ]
    }
   ],
   "source": [
    "def calculate_sum(df):\n",
    "    sum_values = sum(df['Values'].head(3))\n",
    "    print(\"Sum of the first three values:\", sum_values)\n",
    "    \n",
    "df = pd.DataFrame({'Values': [10, 20, 30, 40, 50]})\n",
    "print(\"DataFrame:\")\n",
    "print(df)\n",
    "\n",
    "calculate_sum(df)"
   ]
  },
  {
   "cell_type": "markdown",
   "id": "0a8fdf2a-3b83-4f4f-8434-01314c00346a",
   "metadata": {},
   "source": [
    "Q4. Given a Pandas DataFrame df with a column 'Text', write a Python function to create a new column\n",
    "'Word_Count' that contains the number of words in each row of the 'Text' column."
   ]
  },
  {
   "cell_type": "code",
   "execution_count": 16,
   "id": "d52c3ff3-09e8-4f0d-b02e-872c09e2ca2f",
   "metadata": {},
   "outputs": [
    {
     "name": "stdout",
     "output_type": "stream",
     "text": [
      "Original DataFrame:\n",
      "                Text\n",
      "0        Hello world\n",
      "1  Python is awesome\n",
      "2      Data analysis\n",
      "\n",
      "DataFrame with Word_Count column:\n",
      "                Text  Word_Count\n",
      "0        Hello world           2\n",
      "1  Python is awesome           3\n",
      "2      Data analysis           2\n"
     ]
    }
   ],
   "source": [
    "import pandas as pd\n",
    "\n",
    "def add_word_count(df):\n",
    "    df['Word_Count'] = df['Text'].apply(lambda x: len(str(x).split()))\n",
    "\n",
    "df = pd.DataFrame({'Text': ['Hello world', 'Python is awesome', 'Data analysis']})\n",
    "print(\"Original DataFrame:\")\n",
    "print(df)\n",
    "\n",
    "add_word_count(df)\n",
    "print(\"\\nDataFrame with Word_Count column:\")\n",
    "print(df)"
   ]
  },
  {
   "cell_type": "markdown",
   "id": "e7bb599b-9aeb-4c0a-a63e-296bce48c0c0",
   "metadata": {},
   "source": [
    "5. How are DataFrame.size() and DataFrame.shape() different?\n",
    "\n",
    "The DataFrame.size and DataFrame.shape attributes in Pandas provide different information about the dimensions of a DataFrame.\n",
    "\n",
    "DataFrame.size:\n",
    "\n",
    "DataFrame.size returns the total number of elements in the DataFrame.\n",
    "It calculates the size by multiplying the number of rows (DataFrame.shape[0]) by the number of columns (DataFrame.shape[1]).\n",
    "The result is a single integer representing the total number of elements in the DataFrame.\n",
    "DataFrame.shape:\n",
    "\n",
    "DataFrame.shape returns a tuple that represents the dimensions of the DataFrame.\n",
    "The tuple contains two elements: the number of rows and the number of columns, respectively.\n",
    "The shape of a DataFrame is defined by the number of rows and columns it contains.\n",
    "Here's an example to illustrate the difference:"
   ]
  },
  {
   "cell_type": "code",
   "execution_count": 18,
   "id": "920f9c89-b6f7-49c1-9f12-db830416bdf0",
   "metadata": {},
   "outputs": [
    {
     "name": "stdout",
     "output_type": "stream",
     "text": [
      "DataFrame size: 6\n",
      "DataFrame shape: (3, 2)\n"
     ]
    }
   ],
   "source": [
    "# Creating a DataFrame\n",
    "data = {'A': [1, 2, 3], 'B': [4, 5, 6]}\n",
    "df = pd.DataFrame(data)\n",
    "\n",
    "# Using DataFrame.size\n",
    "print(\"DataFrame size:\", df.size)\n",
    "\n",
    "# Using DataFrame.shape\n",
    "print(\"DataFrame shape:\", df.shape)"
   ]
  },
  {
   "cell_type": "markdown",
   "id": "e435ee5e-e01a-44df-92cf-a575c203a5d5",
   "metadata": {},
   "source": [
    "6. Which function of pandas do we use to read an excel file?\n",
    "\n",
    "Ans.\n",
    "In pandas, the function used to read an Excel file is read_excel(). This function allows you to read data from an Excel file and create a DataFrame.\n",
    "\n"
   ]
  },
  {
   "cell_type": "markdown",
   "id": "2bd0f720-adad-40f0-b5d9-3ceeaf8b081d",
   "metadata": {},
   "source": [
    "7. You have a Pandas DataFrame df that contains a column named 'Email' that contains email\n",
    "addresses in the format 'username@domain.com'. Write a Python function that creates a new column\n",
    "'Username' in df that contains only the username part of each email address.\n",
    "The username is the part of the email address that appears before the '@' symbol. For example, if the\n",
    "email address is 'john.doe@example.com', the 'Username' column should contain 'john.doe'. Your\n",
    "function should extract the username from each email address and store it in the new 'Username'\n",
    "column."
   ]
  },
  {
   "cell_type": "code",
   "execution_count": 19,
   "id": "7481253a-cbf2-4f24-b435-b17a6b75631d",
   "metadata": {},
   "outputs": [
    {
     "name": "stdout",
     "output_type": "stream",
     "text": [
      "Original DataFrame:\n",
      "                     Email\n",
      "0     john.doe@example.com\n",
      "1  alice.smith@example.com\n",
      "2  bob.johnson@example.com\n",
      "\n",
      "DataFrame with Username column:\n",
      "                     Email     Username\n",
      "0     john.doe@example.com     john.doe\n",
      "1  alice.smith@example.com  alice.smith\n",
      "2  bob.johnson@example.com  bob.johnson\n"
     ]
    }
   ],
   "source": [
    "#To create a new column 'Username' in a Pandas DataFrame, extracting the username part from the 'Email' column, you can use the str.split() method along with string indexing. Here's a Python function that achieves this:\n",
    "def extract_username(df):\n",
    "    df['Username'] = df['Email'].str.split('@').str[0]\n",
    "\n",
    "# Example usage\n",
    "df = pd.DataFrame({'Email': ['john.doe@example.com', 'alice.smith@example.com', 'bob.johnson@example.com']})\n",
    "print(\"Original DataFrame:\")\n",
    "print(df)\n",
    "\n",
    "extract_username(df)\n",
    "print(\"\\nDataFrame with Username column:\")\n",
    "print(df)"
   ]
  },
  {
   "cell_type": "markdown",
   "id": "66769412-6bc3-4638-9e1f-5257a5889ddd",
   "metadata": {},
   "source": [
    "8. You have a Pandas DataFrame df with columns 'A', 'B', and 'C'. Write a Python function that selects\n",
    "all rows where the value in column 'A' is greater than 5 and the value in column 'B' is less than 10. The\n",
    "function should return a new DataFrame that contains only the selected rows.\n",
    "For example, if df contains the following values:\n",
    "A B C\n",
    "0 3 5 1\n",
    "1 8 2 7\n",
    "2 6 9 4\n",
    "3 2 3 5\n",
    "4 9 1 2\n",
    "\n",
    "Your function should select the following rows: A B C\n",
    "1 8 2 7\n",
    "4 9 1 2\n",
    "The function should return a new DataFrame that contains only the selected rows."
   ]
  },
  {
   "cell_type": "code",
   "execution_count": 20,
   "id": "418f3456-3634-4d91-85ee-ce44c40798f8",
   "metadata": {},
   "outputs": [
    {
     "name": "stdout",
     "output_type": "stream",
     "text": [
      "Original DataFrame:\n",
      "   A  B  C\n",
      "0  3  5  1\n",
      "1  8  2  7\n",
      "2  6  9  4\n",
      "3  2  3  5\n",
      "4  9  1  2\n",
      "\n",
      "Selected DataFrame:\n",
      "   A  B  C\n",
      "1  8  2  7\n",
      "2  6  9  4\n",
      "4  9  1  2\n"
     ]
    }
   ],
   "source": [
    "def select_rows(df):\n",
    "    selected_rows = df[(df['A'] > 5) & (df['B'] < 10)]\n",
    "    return selected_rows\n",
    "\n",
    "df = pd.DataFrame({'A': [3, 8, 6, 2, 9],\n",
    "                   'B': [5, 2, 9, 3, 1],\n",
    "                   'C': [1, 7, 4, 5, 2]})\n",
    "print(\"Original DataFrame:\")\n",
    "print(df)\n",
    "\n",
    "selected_df = select_rows(df)\n",
    "print(\"\\nSelected DataFrame:\")\n",
    "print(selected_df)"
   ]
  },
  {
   "cell_type": "markdown",
   "id": "8c0be3e4-c872-4b15-ad72-dcb21942a619",
   "metadata": {},
   "source": [
    "9. Given a Pandas DataFrame df with a column 'Values', write a Python function to calculate the mean,\n",
    "median, and standard deviation of the values in the 'Values' column."
   ]
  },
  {
   "cell_type": "code",
   "execution_count": 22,
   "id": "c5775326-2de2-404c-bbf7-e80eb54eb495",
   "metadata": {},
   "outputs": [
    {
     "name": "stdout",
     "output_type": "stream",
     "text": [
      "DataFrame:\n",
      "   Values\n",
      "0      10\n",
      "1      20\n",
      "2      30\n",
      "3      40\n",
      "4      50\n",
      "\n",
      "Mean: 30.0\n",
      "Median: 30.0\n",
      "Standard Deviation: 15.811388300841896\n"
     ]
    }
   ],
   "source": [
    "def calculate_statistics(df):\n",
    "    mean_value = df['Values'].mean()\n",
    "    median_value = df['Values'].median()\n",
    "    std_value = df['Values'].std()\n",
    "    return mean_value, median_value, std_value\n",
    "\n",
    "# Example usage\n",
    "df = pd.DataFrame({'Values': [10, 20, 30, 40, 50]})\n",
    "print(\"DataFrame:\")\n",
    "print(df)\n",
    "\n",
    "mean, median, std = calculate_statistics(df)\n",
    "print(\"\\nMean:\", mean)\n",
    "print(\"Median:\", median)\n",
    "print(\"Standard Deviation:\", std)"
   ]
  },
  {
   "cell_type": "markdown",
   "id": "b72e6188-fffe-404e-aac5-8a3a81f76ffc",
   "metadata": {},
   "source": [
    "10. Given a Pandas DataFrame df with a column 'Sales' and a column 'Date', write a Python function to\n",
    "create a new column 'MovingAverage' that contains the moving average of the sales for the past 7 days\n",
    "for each row in the DataFrame. The moving average should be calculated using a window of size 7 and\n",
    "should include the current day."
   ]
  },
  {
   "cell_type": "code",
   "execution_count": 23,
   "id": "962cd51d-1a5c-458f-835d-ee9cdc687856",
   "metadata": {},
   "outputs": [
    {
     "name": "stdout",
     "output_type": "stream",
     "text": [
      "Original DataFrame:\n",
      "        Date  Sales\n",
      "0 2022-01-01     10\n",
      "1 2022-01-02     15\n",
      "2 2022-01-03     20\n",
      "3 2022-01-04     25\n",
      "4 2022-01-05     30\n",
      "5 2022-01-06     35\n",
      "6 2022-01-07     40\n",
      "7 2022-01-08     45\n",
      "8 2022-01-09     50\n",
      "9 2022-01-10     55\n",
      "\n",
      "DataFrame with MovingAverage column:\n",
      "        Date  Sales  MovingAverage\n",
      "0 2022-01-01     10           10.0\n",
      "1 2022-01-02     15           12.5\n",
      "2 2022-01-03     20           15.0\n",
      "3 2022-01-04     25           17.5\n",
      "4 2022-01-05     30           20.0\n",
      "5 2022-01-06     35           22.5\n",
      "6 2022-01-07     40           25.0\n",
      "7 2022-01-08     45           30.0\n",
      "8 2022-01-09     50           35.0\n",
      "9 2022-01-10     55           40.0\n"
     ]
    }
   ],
   "source": [
    "def calculate_moving_average(df):\n",
    "    df['MovingAverage'] = df['Sales'].rolling(window=7, min_periods=1).mean()\n",
    "    \n",
    "# Example usage\n",
    "df = pd.DataFrame({'Date': pd.date_range(start='2022-01-01', periods=10),\n",
    "                   'Sales': [10, 15, 20, 25, 30, 35, 40, 45, 50, 55]})\n",
    "print(\"Original DataFrame:\")\n",
    "print(df)\n",
    "\n",
    "calculate_moving_average(df)\n",
    "print(\"\\nDataFrame with MovingAverage column:\")\n",
    "print(df)  \n",
    "    \n"
   ]
  },
  {
   "cell_type": "markdown",
   "id": "697bc7ea-646f-4dbb-9651-896784b395c0",
   "metadata": {},
   "source": [
    "11.You have a Pandas DataFrame df with a column 'Date'. Write a Python function that creates a new\n",
    "column 'Weekday' in the DataFrame. The 'Weekday' column should contain the weekday name (e.g.\n",
    "Monday, Tuesday) corresponding to each date in the 'Date' column.\n",
    "For example, if df contains the following values:\n",
    "Date\n",
    "0 2023-01-01\n",
    "1 2023-01-02\n",
    "2 2023-01-03\n",
    "3 2023-01-04\n",
    "4 2023-01-05\n",
    "Your function should create the following DataFrame:\n",
    "\n",
    "Date Weekday\n",
    "0 2023-01-01 Sunday\n",
    "1 2023-01-02 Monday\n",
    "2 2023-01-03 Tuesday\n",
    "3 2023-01-04 Wednesday\n",
    "4 2023-01-05 Thursday\n",
    "The function should return the modified DataFrame."
   ]
  },
  {
   "cell_type": "code",
   "execution_count": 24,
   "id": "97e557bc-8ea6-4043-bf07-7c2dc25a618c",
   "metadata": {},
   "outputs": [
    {
     "name": "stdout",
     "output_type": "stream",
     "text": [
      "Original DataFrame:\n",
      "        Date\n",
      "0 2023-01-01\n",
      "1 2023-01-02\n",
      "2 2023-01-03\n",
      "3 2023-01-04\n",
      "4 2023-01-05\n",
      "\n",
      "DataFrame with Weekday column:\n",
      "        Date    Weekday\n",
      "0 2023-01-01     Sunday\n",
      "1 2023-01-02     Monday\n",
      "2 2023-01-03    Tuesday\n",
      "3 2023-01-04  Wednesday\n",
      "4 2023-01-05   Thursday\n"
     ]
    }
   ],
   "source": [
    "def add_weekday_column(df):\n",
    "    df['Weekday'] = df['Date'].dt.strftime('%A')\n",
    "    return df\n",
    "\n",
    "# Example usage\n",
    "df = pd.DataFrame({'Date': pd.date_range(start='2023-01-01', periods=5)})\n",
    "print(\"Original DataFrame:\")\n",
    "print(df)\n",
    "\n",
    "modified_df = add_weekday_column(df)\n",
    "print(\"\\nDataFrame with Weekday column:\")\n",
    "print(modified_df)"
   ]
  },
  {
   "cell_type": "markdown",
   "id": "3114699a-e01e-4c39-ba88-6070a963e823",
   "metadata": {},
   "source": [
    "12. Given a Pandas DataFrame df with a column 'Date' that contains timestamps, write a Python\n",
    "function to select all rows where the date is between '2023-01-01' and '2023-01-31'."
   ]
  },
  {
   "cell_type": "code",
   "execution_count": 25,
   "id": "d352f45a-9f32-46b7-b0ba-c1066ffb7fef",
   "metadata": {},
   "outputs": [
    {
     "name": "stdout",
     "output_type": "stream",
     "text": [
      "Original DataFrame:\n",
      "        Date\n",
      "0 2023-01-01\n",
      "1 2023-01-02\n",
      "2 2023-01-03\n",
      "3 2023-01-04\n",
      "4 2023-01-05\n",
      "5 2023-01-06\n",
      "6 2023-01-07\n",
      "7 2023-01-08\n",
      "8 2023-01-09\n",
      "9 2023-01-10\n",
      "\n",
      "Selected DataFrame:\n",
      "        Date\n",
      "0 2023-01-01\n",
      "1 2023-01-02\n",
      "2 2023-01-03\n",
      "3 2023-01-04\n",
      "4 2023-01-05\n",
      "5 2023-01-06\n",
      "6 2023-01-07\n",
      "7 2023-01-08\n",
      "8 2023-01-09\n",
      "9 2023-01-10\n"
     ]
    }
   ],
   "source": [
    "import pandas as pd\n",
    "\n",
    "def select_rows_by_date(df):\n",
    "    mask = (df['Date'] >= '2023-01-01') & (df['Date'] <= '2023-01-31')\n",
    "    selected_rows = df[mask]\n",
    "    return selected_rows\n",
    "\n",
    "# Example usage\n",
    "df = pd.DataFrame({'Date': pd.date_range(start='2023-01-01', periods=10)})\n",
    "print(\"Original DataFrame:\")\n",
    "print(df)\n",
    "\n",
    "selected_df = select_rows_by_date(df)\n",
    "print(\"\\nSelected DataFrame:\")\n",
    "print(selected_df)"
   ]
  },
  {
   "cell_type": "markdown",
   "id": "62cfa119-03a6-47c6-a957-e3c7892363ea",
   "metadata": {},
   "source": [
    "13. To use the basic functions of pandas, what is the first and foremost necessary library that needs to\n",
    "be imported?"
   ]
  },
  {
   "cell_type": "code",
   "execution_count": null,
   "id": "018de431-e138-48c0-bdc6-65cf4302613a",
   "metadata": {},
   "outputs": [],
   "source": []
  }
 ],
 "metadata": {
  "kernelspec": {
   "display_name": "Python 3 (ipykernel)",
   "language": "python",
   "name": "python3"
  },
  "language_info": {
   "codemirror_mode": {
    "name": "ipython",
    "version": 3
   },
   "file_extension": ".py",
   "mimetype": "text/x-python",
   "name": "python",
   "nbconvert_exporter": "python",
   "pygments_lexer": "ipython3",
   "version": "3.10.8"
  }
 },
 "nbformat": 4,
 "nbformat_minor": 5
}
